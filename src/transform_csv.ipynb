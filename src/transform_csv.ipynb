{
 "cells": [
  {
   "cell_type": "code",
   "execution_count": 5,
   "metadata": {},
   "outputs": [],
   "source": [
    "import pandas as pd\n",
    "import re"
   ]
  },
  {
   "cell_type": "code",
   "execution_count": 6,
   "metadata": {},
   "outputs": [],
   "source": [
    "original_df = pd.read_csv(r'..\\results\\2-21-25_Scrape.csv')\n",
    "fice_table = pd.read_csv(r'..\\results\\fice_table.csv')"
   ]
  },
  {
   "cell_type": "code",
   "execution_count": 7,
   "metadata": {},
   "outputs": [],
   "source": [
    "# extract and store all extra courses from records that have multiple courses\n",
    "\n",
    "multi_courses = original_df[original_df['NEUCourse'].str.contains(\" and [A-Z]{2,}\\s*\\d{4}\\s-.*\", regex=True)]\n",
    "match_list = []\n",
    "\n",
    "for i in multi_courses.index:\n",
    "    row = original_df.loc[i].copy()\n",
    "    course_names_str = original_df.at[i, 'NEUCourse']\n",
    "    matches = re.findall(r\"and [A-Z]{2,}\\s*\\d{4}\\s-.*?(?=and [A-Z]{2,}\\s*\\d{4}\\s-.*|\\Z)\", course_names_str)\n",
    "    matches = [match.strip()[4:] for match in matches]\n",
    "    for match in matches:\n",
    "        row[\"NEUCourse\"] = match\n",
    "        # print(row)\n",
    "        match_list.append(row)\n",
    "multi_courses_df = pd.DataFrame(match_list)\n",
    "# multi_courses_df"
   ]
  },
  {
   "cell_type": "code",
   "execution_count": 8,
   "metadata": {},
   "outputs": [],
   "source": [
    "# stip away multi courses that were already extracted before\n",
    "\n",
    "def remove_multi_courses(row):\n",
    "    row['NEUCourse'] = re.sub(r\"and [A-Z]{2,}\\s*\\d{4}\\s-.*\\Z\", \"\", row['NEUCourse']).strip()\n",
    "    return row\n",
    "multi_courses_removed = original_df.apply(remove_multi_courses, axis=1)\n",
    "# multi_courses_removed"
   ]
  },
  {
   "cell_type": "code",
   "execution_count": 9,
   "metadata": {},
   "outputs": [],
   "source": [
    "combined = pd.concat([multi_courses_removed, multi_courses_df])\n",
    "# combined"
   ]
  },
  {
   "cell_type": "code",
   "execution_count": 10,
   "metadata": {},
   "outputs": [],
   "source": [
    "valid_courses = combined[combined['NEUCourse'].str.contains(r'[A-Z]+\\s*\\d{4}', regex=True)]\n",
    "# valid_courses\n",
    "# print(valid_courses['NEUCourse'].unique())"
   ]
  },
  {
   "cell_type": "code",
   "execution_count": 13,
   "metadata": {},
   "outputs": [],
   "source": [
    "# Extract codes using vectorized string operations\n",
    "codes_out = valid_courses.copy()\n",
    "codes_out['NEUCode'] = (valid_courses['NEUCourse'].str.extract(r'([A-Z]+\\s*\\d{4})'))\n",
    "codes_out['NEUCode'] = codes_out['NEUCode'].str.replace(r'\\s+', '', regex=True)\n",
    "# codes_out\n",
    "codes_out.to_csv(r'../results/database.csv', index=False)"
   ]
  }
 ],
 "metadata": {
  "kernelspec": {
   "display_name": ".venv",
   "language": "python",
   "name": "python3"
  },
  "language_info": {
   "codemirror_mode": {
    "name": "ipython",
    "version": 3
   },
   "file_extension": ".py",
   "mimetype": "text/x-python",
   "name": "python",
   "nbconvert_exporter": "python",
   "pygments_lexer": "ipython3",
   "version": "3.10.11"
  }
 },
 "nbformat": 4,
 "nbformat_minor": 2
}
